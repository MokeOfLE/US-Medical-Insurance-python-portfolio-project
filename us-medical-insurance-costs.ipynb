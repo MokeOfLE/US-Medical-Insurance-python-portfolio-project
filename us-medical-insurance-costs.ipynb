{
 "cells": [
  {
   "attachments": {},
   "cell_type": "markdown",
   "metadata": {},
   "source": [
    "# U.S. Medical Insurance Costs\n",
    "\n",
    "This project aims to analyse data about medical insurance cost in the U.S. It is pursued as part of a codecademy course on data analysis using python. The data has been provided by codecademy as well."
   ]
  },
  {
   "attachments": {},
   "cell_type": "markdown",
   "metadata": {},
   "source": [
    "## Importing the data\n",
    "The data is delivered as a csv-sheet. In a first step the data shall be importet and be put into variables (lists and dictionaries) to be evaluated. The csv-module will be imported to perform its .DictReader()-function to import the data."
   ]
  },
  {
   "cell_type": "code",
   "execution_count": 2,
   "metadata": {},
   "outputs": [],
   "source": [
    "import csv\n",
    "\n",
    "all_data = []\n",
    "with open(\"insurance.csv\", newline='') as insurance_raw_data:\n",
    "    insurance_dict = csv.DictReader(insurance_raw_data)\n",
    "    for row in insurance_dict:\n",
    "        all_data.append(row)"
   ]
  },
  {
   "attachments": {},
   "cell_type": "markdown",
   "metadata": {},
   "source": [
    "## Tidying the data\n",
    "In the following step, the data shall be checked for irregularities and, if necessary, cleaned for further use.\n",
    "Since the DictReader function checks for rows with more or less fields than fielnames, i could check for restval and restkey."
   ]
  },
  {
   "cell_type": "code",
   "execution_count": 3,
   "metadata": {},
   "outputs": [
    {
     "name": "stdout",
     "output_type": "stream",
     "text": [
      "{'age': '19', 'sex': 'female', 'bmi': '27.9', 'children': '0', 'smoker': 'yes', 'region': 'southwest', 'charges': '16884.924'}\n",
      "{'age': '18', 'sex': 'male', 'bmi': '33.77', 'children': '1', 'smoker': 'no', 'region': 'southeast', 'charges': '1725.5523'}\n",
      "{'age': '28', 'sex': 'male', 'bmi': '33', 'children': '3', 'smoker': 'no', 'region': 'southeast', 'charges': '4449.462'}\n",
      "{'age': '33', 'sex': 'male', 'bmi': '22.705', 'children': '0', 'smoker': 'no', 'region': 'northwest', 'charges': '21984.47061'}\n",
      "{'age': '32', 'sex': 'male', 'bmi': '28.88', 'children': '0', 'smoker': 'no', 'region': 'northwest', 'charges': '3866.8552'}\n",
      "{'age': '31', 'sex': 'female', 'bmi': '25.74', 'children': '0', 'smoker': 'no', 'region': 'southeast', 'charges': '3756.6216'}\n",
      "{'age': '46', 'sex': 'female', 'bmi': '33.44', 'children': '1', 'smoker': 'no', 'region': 'southeast', 'charges': '8240.5896'}\n",
      "{'age': '37', 'sex': 'female', 'bmi': '27.74', 'children': '3', 'smoker': 'no', 'region': 'northwest', 'charges': '7281.5056'}\n",
      "{'age': '37', 'sex': 'male', 'bmi': '29.83', 'children': '2', 'smoker': 'no', 'region': 'northeast', 'charges': '6406.4107'}\n",
      "{'age': '60', 'sex': 'female', 'bmi': '25.84', 'children': '0', 'smoker': 'no', 'region': 'northwest', 'charges': '28923.13692'}\n"
     ]
    }
   ],
   "source": [
    "for i in range(10):\n",
    "    print(all_data[i])"
   ]
  },
  {
   "attachments": {},
   "cell_type": "markdown",
   "metadata": {},
   "source": [
    "The data seems to be in a very good condition. There are no empty cells and no problems have occured during the import."
   ]
  },
  {
   "attachments": {},
   "cell_type": "markdown",
   "metadata": {},
   "source": [
    "## Converting the data to fitting data-types"
   ]
  },
  {
   "cell_type": "code",
   "execution_count": 4,
   "metadata": {},
   "outputs": [],
   "source": [
    "# To facilitate further analysis and making operations faster, every column of the dataset will be put in a seperate list\n",
    "ages = []\n",
    "sexes = []\n",
    "bmis = []\n",
    "children = []\n",
    "smokers = []\n",
    "regions = []\n",
    "charges = []\n",
    "\n",
    "# The next step will convert the data into fitting data types, as for now they are all still strings\n",
    "for row in all_data:\n",
    "    row[\"age\"] = int(row[\"age\"])\n",
    "    row[\"bmi\"] = float(row[\"bmi\"])\n",
    "    row[\"children\"] = int(row[\"children\"])\n",
    "    row[\"charges\"] = float(row[\"charges\"])\n",
    "    \n",
    "# now every value from every row will be put into their respective list-variable\n",
    "for i in range(len(all_data)):\n",
    "    ages.append(all_data[i][\"age\"])\n",
    "    sexes.append(all_data[i][\"sex\"])\n",
    "    bmis.append(all_data[i][\"bmi\"])\n",
    "    children.append(all_data[i][\"children\"])\n",
    "    smokers.append(all_data[i][\"smoker\"])\n",
    "    regions.append(all_data[i][\"region\"])\n",
    "    charges.append(all_data[i][\"charges\"])"
   ]
  },
  {
   "attachments": {},
   "cell_type": "markdown",
   "metadata": {},
   "source": [
    "## Checking data for validity\n",
    "Since we don't know exactly how the data was originally acquired, we need to check if it is valid for making assumptions. To achieve that, we will check wether the data set is representing the U.S. population or wether it is biased. Special attention will be drawn with respect to the number of children and the smoker/non-smoker decision."
   ]
  },
  {
   "attachments": {},
   "cell_type": "markdown",
   "metadata": {},
   "source": [
    "### The male / female ratio"
   ]
  },
  {
   "cell_type": "code",
   "execution_count": 5,
   "metadata": {},
   "outputs": [
    {
     "name": "stdout",
     "output_type": "stream",
     "text": [
      "The data contains 1338 individual datasets from U.S. Citizens.\n",
      "Of these, 676 are male and 662 are female.\n"
     ]
    }
   ],
   "source": [
    "total_sets = len(all_data)\n",
    "male = sexes.count(\"male\")\n",
    "female = sexes.count(\"female\")\n",
    "\n",
    "print(\"\"\"The data contains {total_sets} individual datasets from U.S. Citizens.\n",
    "Of these, {male} are male and {female} are female.\"\"\".format(total_sets = total_sets, male = male, female = female))"
   ]
  },
  {
   "attachments": {},
   "cell_type": "markdown",
   "metadata": {},
   "source": [
    "### Smoker validation\n",
    "The following function will get the percentage of smokers in the dataset"
   ]
  },
  {
   "cell_type": "code",
   "execution_count": 6,
   "metadata": {},
   "outputs": [
    {
     "name": "stdout",
     "output_type": "stream",
     "text": [
      "The dataset contains 20.5 % smokers.\n"
     ]
    }
   ],
   "source": [
    "def smokers_amount(data_as_list):\n",
    "    list_len = len(data_as_list)\n",
    "    count_smokers = 0\n",
    "    for element in data_as_list:\n",
    "        if element[\"smoker\"] == \"yes\":\n",
    "            count_smokers += 1\n",
    "    smoker_perc = round(count_smokers * 100 / list_len, 1)\n",
    "    return smoker_perc\n",
    "\n",
    "print(\"The dataset contains {smoker_perc} % smokers.\".format(smoker_perc = smokers_amount(all_data)))"
   ]
  },
  {
   "attachments": {},
   "cell_type": "markdown",
   "metadata": {},
   "source": [
    "Since in 2022 there had been approximately 12.5 % smokers among the adult population of the U.S., the dataset seems to overweight them. Then again, the numbers changed during the last years, and it used to be 20.9 % in 2005. This could mean that the used dataset is simply some years old. For more information on U.S. smoking statistics, go to:\n",
    "https://www.cdc.gov/tobacco/data_statistics/fact_sheets/adult_data/cig_smoking/index.htm"
   ]
  },
  {
   "attachments": {},
   "cell_type": "markdown",
   "metadata": {},
   "source": [
    "### Average number of Children\n",
    "The next function should evaluate the average number of children"
   ]
  },
  {
   "cell_type": "code",
   "execution_count": 7,
   "metadata": {},
   "outputs": [
    {
     "name": "stdout",
     "output_type": "stream",
     "text": [
      "0.9\n"
     ]
    }
   ],
   "source": [
    "def average_child_count(data_as_list):\n",
    "    list_len = len(data_as_list)\n",
    "    count_children = 0\n",
    "    for element in data_as_list:\n",
    "        count_children += element[\"children\"]\n",
    "    avg_children = round(list_len / count_children, 1)\n",
    "    return avg_children\n",
    "\n",
    "print(average_child_count(all_data))"
   ]
  },
  {
   "attachments": {},
   "cell_type": "markdown",
   "metadata": {},
   "source": [
    "### Places of Origin\n",
    "where do the individuals from our data live? We will now examine the regions. What regions are there in the data, and how many datasets are associated with each region."
   ]
  },
  {
   "cell_type": "code",
   "execution_count": 8,
   "metadata": {},
   "outputs": [
    {
     "name": "stdout",
     "output_type": "stream",
     "text": [
      "[('southeast', 364), ('southwest', 325), ('northwest', 325), ('northeast', 324)]\n"
     ]
    }
   ],
   "source": [
    "def origins(regions):\n",
    "    list_of_regions = []\n",
    "    for i in range(len(regions)):\n",
    "        if regions[i] not in list_of_regions:\n",
    "            list_of_regions.append(regions[i])\n",
    "\n",
    "    region_count = {}\n",
    "    for region in list_of_regions:\n",
    "        region_count.update({region: regions.count(region)})\n",
    "    region_count = sorted(region_count.items(), key=lambda x:x[1], reverse = True)\n",
    "    return region_count\n",
    "    \n",
    "print(origins(regions))"
   ]
  },
  {
   "attachments": {},
   "cell_type": "markdown",
   "metadata": {},
   "source": [
    "## Getting to know the data\n",
    "### In this chapter we want to have a first look at the data. This means finding maximums and minimums and some averages, but also trying to make useful groupings like age groups\n",
    "#### Who has the highest cost?\n",
    "Make a list that lists the ten entrys paying the most. Sort them by cost.\n",
    "Ideas for doing so:\n",
    "- Sort a copy of the list and take element 1 to 10\n",
    "- make a copy of the list and pop the highest row into a new list. Repeat ten times."
   ]
  },
  {
   "cell_type": "code",
   "execution_count": 9,
   "metadata": {},
   "outputs": [
    {
     "name": "stdout",
     "output_type": "stream",
     "text": [
      "{'age': 54, 'sex': 'female', 'bmi': 47.41, 'children': 0, 'smoker': 'yes', 'region': 'southeast', 'charges': 63770.42801}\n",
      "{'age': 45, 'sex': 'male', 'bmi': 30.36, 'children': 0, 'smoker': 'yes', 'region': 'southeast', 'charges': 62592.87309}\n",
      "{'age': 52, 'sex': 'male', 'bmi': 34.485, 'children': 3, 'smoker': 'yes', 'region': 'northwest', 'charges': 60021.39897}\n",
      "{'age': 31, 'sex': 'female', 'bmi': 38.095, 'children': 1, 'smoker': 'yes', 'region': 'northeast', 'charges': 58571.07448}\n",
      "{'age': 33, 'sex': 'female', 'bmi': 35.53, 'children': 0, 'smoker': 'yes', 'region': 'northwest', 'charges': 55135.40209}\n",
      "{'age': 60, 'sex': 'male', 'bmi': 32.8, 'children': 0, 'smoker': 'yes', 'region': 'southwest', 'charges': 52590.82939}\n",
      "{'age': 28, 'sex': 'male', 'bmi': 36.4, 'children': 1, 'smoker': 'yes', 'region': 'southwest', 'charges': 51194.55914}\n",
      "{'age': 64, 'sex': 'male', 'bmi': 36.96, 'children': 2, 'smoker': 'yes', 'region': 'southeast', 'charges': 49577.6624}\n",
      "{'age': 59, 'sex': 'male', 'bmi': 41.14, 'children': 1, 'smoker': 'yes', 'region': 'southeast', 'charges': 48970.2476}\n",
      "{'age': 44, 'sex': 'female', 'bmi': 38.06, 'children': 0, 'smoker': 'yes', 'region': 'southeast', 'charges': 48885.13561}\n"
     ]
    }
   ],
   "source": [
    "all_data_copy = list(all_data)\n",
    "all_data_sorted = sorted(all_data_copy, key=lambda all_data_copy: all_data_copy[\"charges\"], reverse=True)\n",
    "for i in range(10):\n",
    "    print(all_data_sorted[i])"
   ]
  },
  {
   "attachments": {},
   "cell_type": "markdown",
   "metadata": {},
   "source": [
    "As was to be suspected, those who pay most are all smokers. Most of them also have a high BMI. While the majority is above the average age, roughly one third is around thirty years old.\n",
    "To further investigate the cost of smoking, we will now compare the average inasurance cost of smokers and non-smokers."
   ]
  },
  {
   "cell_type": "code",
   "execution_count": 10,
   "metadata": {},
   "outputs": [
    {
     "name": "stdout",
     "output_type": "stream",
     "text": [
      "The average smoker has insurance charges of 32050.23 $.\n",
      "The average non-smoker has insurance charges of 8434.27 $.\n"
     ]
    }
   ],
   "source": [
    "smokers_total_cost = 0.0\n",
    "count_smokers = 0\n",
    "for i in range(len(all_data)):\n",
    "    if all_data[i][\"smoker\"] == \"yes\":\n",
    "        smokers_total_cost += all_data[i][\"charges\"]\n",
    "        count_smokers += 1\n",
    "smoker_average_cost = smokers_total_cost / count_smokers\n",
    "print(\"The average smoker has insurance charges of {smoker_average_cost} $.\".format(smoker_average_cost = round(smoker_average_cost, 2)))\n",
    "\n",
    "nonsmokers_total_cost = 0.0\n",
    "count_nonsmokers = 0\n",
    "for i in range(len(all_data)):\n",
    "    if all_data[i][\"smoker\"] == \"no\":\n",
    "        nonsmokers_total_cost += all_data[i][\"charges\"]\n",
    "        count_nonsmokers += 1\n",
    "nonsmoker_average_cost = nonsmokers_total_cost / count_nonsmokers\n",
    "print(\"The average non-smoker has insurance charges of {nonsmoker_average_cost} $.\".format(nonsmoker_average_cost = round(nonsmoker_average_cost, 2)))"
   ]
  },
  {
   "attachments": {},
   "cell_type": "markdown",
   "metadata": {},
   "source": [
    "#### Who pays the least"
   ]
  },
  {
   "cell_type": "code",
   "execution_count": 11,
   "metadata": {},
   "outputs": [
    {
     "name": "stdout",
     "output_type": "stream",
     "text": [
      "{'age': 18, 'sex': 'male', 'bmi': 23.21, 'children': 0, 'smoker': 'no', 'region': 'southeast', 'charges': 1121.8739}\n",
      "{'age': 18, 'sex': 'male', 'bmi': 30.14, 'children': 0, 'smoker': 'no', 'region': 'southeast', 'charges': 1131.5066}\n",
      "{'age': 18, 'sex': 'male', 'bmi': 33.33, 'children': 0, 'smoker': 'no', 'region': 'southeast', 'charges': 1135.9407}\n",
      "{'age': 18, 'sex': 'male', 'bmi': 33.66, 'children': 0, 'smoker': 'no', 'region': 'southeast', 'charges': 1136.3994}\n",
      "{'age': 18, 'sex': 'male', 'bmi': 34.1, 'children': 0, 'smoker': 'no', 'region': 'southeast', 'charges': 1137.011}\n",
      "{'age': 18, 'sex': 'male', 'bmi': 34.43, 'children': 0, 'smoker': 'no', 'region': 'southeast', 'charges': 1137.4697}\n",
      "{'age': 18, 'sex': 'male', 'bmi': 37.29, 'children': 0, 'smoker': 'no', 'region': 'southeast', 'charges': 1141.4451}\n",
      "{'age': 18, 'sex': 'male', 'bmi': 41.14, 'children': 0, 'smoker': 'no', 'region': 'southeast', 'charges': 1146.7966}\n",
      "{'age': 18, 'sex': 'male', 'bmi': 43.01, 'children': 0, 'smoker': 'no', 'region': 'southeast', 'charges': 1149.3959}\n",
      "{'age': 18, 'sex': 'male', 'bmi': 53.13, 'children': 0, 'smoker': 'no', 'region': 'southeast', 'charges': 1163.4627}\n",
      "\n",
      "The median charges are 9386.1613\n"
     ]
    }
   ],
   "source": [
    "all_data_copy = list(all_data)\n",
    "all_data_sorted = sorted(all_data_copy, key=lambda all_data_copy: all_data_copy[\"charges\"])\n",
    "for i in range(10):\n",
    "    print(all_data_sorted[i])\n",
    "    \n",
    "print(\"\\nThe median charges are\", all_data_sorted[int(round(len(all_data) / 2))][\"charges\"])"
   ]
  },
  {
   "attachments": {},
   "cell_type": "markdown",
   "metadata": {},
   "source": [
    "From that we can see that the persons paying the least are all young, male, non-smoking persons without children. Not all of them have a low BMI though. Interestingly, they all live in the southeast."
   ]
  },
  {
   "attachments": {},
   "cell_type": "markdown",
   "metadata": {},
   "source": [
    "#### Forming age groups\n",
    "Another interesting way of looking into the data could be by forming age groups. Maybe i will do this some other time."
   ]
  },
  {
   "attachments": {},
   "cell_type": "markdown",
   "metadata": {},
   "source": [
    "## Questioning the Data\n",
    "### Who are the smokers?\n",
    "Since smoking is one factor that increases insurance cost dramatically, it would be interesting to know who the smokers are. Are they predominantely male or female? Since there a fewer smokers today than ten years ago, it would also be interesting if smokers are old or young, at what age are there the most smokers? And do people with children tend to smoke less?"
   ]
  },
  {
   "cell_type": "code",
   "execution_count": 12,
   "metadata": {},
   "outputs": [],
   "source": [
    "list_of_smokers = []\n",
    "for element in all_data:\n",
    "    if element[\"smoker\"] == \"yes\":\n",
    "        list_of_smokers.append(element)\n"
   ]
  },
  {
   "attachments": {},
   "cell_type": "markdown",
   "metadata": {},
   "source": [
    "### Where do most of the smokers come from?\n",
    "Since we now have a List of the smokers with the same structure as the original data, we can run our functions again, now checking for differences between smokers and non-smokers."
   ]
  },
  {
   "cell_type": "code",
   "execution_count": 13,
   "metadata": {},
   "outputs": [
    {
     "name": "stdout",
     "output_type": "stream",
     "text": [
      "[('southeast', 91), ('northeast', 67), ('southwest', 58), ('northwest', 58)]\n"
     ]
    }
   ],
   "source": [
    "smokers_origins = []\n",
    "for i in range(len(list_of_smokers)):\n",
    "    smokers_origins.append(list_of_smokers[i][\"region\"])\n",
    "print(origins(smokers_origins))"
   ]
  },
  {
   "attachments": {},
   "cell_type": "markdown",
   "metadata": {},
   "source": [
    "Most smokers live in the southeast. (Is this because this is the traditional area where tobacco was once grown and harvested?)"
   ]
  },
  {
   "attachments": {},
   "cell_type": "markdown",
   "metadata": {},
   "source": [
    "We can easily do the same thing for high bmis. But in this case, we need to sort the data first, because the bmi has too many different values."
   ]
  },
  {
   "attachments": {},
   "cell_type": "markdown",
   "metadata": {},
   "source": [
    "### Grouping BMIs\n",
    "We will group the BMIs according to the who standard:\n",
    "Underweight is less than 18.5. Normal weight ranges from 18.5 unto less than 25. From 25 on, one is considered overweight and from 30 on obese. Please note that this is a classification used by the who. The BMI is not really sufficent to indicate health problems. People doing sport for example tend to have higher BMI because of their muscle weight. Also, overweight does not automatically lead to health problems.\n",
    "Nevertheless, we will build 4 classes of BMI:\n",
    "1 < 18.5\n",
    "2 >= 18.5 and < 25\n",
    "3 >= 25 and < 30\n",
    "4 >= 30"
   ]
  },
  {
   "cell_type": "code",
   "execution_count": 14,
   "metadata": {},
   "outputs": [
    {
     "name": "stdout",
     "output_type": "stream",
     "text": [
      "Underweight:  20\n",
      "Healthy weight:  225\n",
      "Overweight:  386\n",
      "Obesity:  707\n"
     ]
    }
   ],
   "source": [
    "bmi_classes = []\n",
    "for i in range(len(bmis)):\n",
    "    if bmis[i] < 18.5:\n",
    "        bmi_classes.append(1)\n",
    "    elif bmis[i] >= 18.5 and bmis[i] < 25:\n",
    "        bmi_classes.append(2)\n",
    "    elif bmis[i] >= 25 and bmis[i] < 30:\n",
    "        bmi_classes.append(3)\n",
    "    elif bmis[i] >= 30:\n",
    "        bmi_classes.append(4)\n",
    "print(\"Underweight: \", bmi_classes.count(1))\n",
    "print(\"Healthy weight: \", bmi_classes.count(2))\n",
    "print(\"Overweight: \", bmi_classes.count(3))\n",
    "print(\"Obesity: \", bmi_classes.count(4))\n"
   ]
  },
  {
   "attachments": {},
   "cell_type": "markdown",
   "metadata": {},
   "source": [
    "A lot of the records in the database suffer from obesity! Only a minority has normal weight. This seems to be biased, as the cdc states that only 40 % of the american population has obesity. See https://www.cdc.gov/obesity/data/adult.html"
   ]
  },
  {
   "attachments": {},
   "cell_type": "markdown",
   "metadata": {},
   "source": [
    "#### Obesity and regions"
   ]
  },
  {
   "cell_type": "code",
   "execution_count": 15,
   "metadata": {},
   "outputs": [
    {
     "name": "stdout",
     "output_type": "stream",
     "text": [
      "[('southeast', 243), ('southwest', 173), ('northwest', 148), ('northeast', 143)]\n"
     ]
    }
   ],
   "source": [
    "#bmi_regions = list(zip(bmi_classes, regions))\n",
    "obese_regions = []\n",
    "for i in range(len(bmi_classes)):\n",
    "    if bmi_classes[i] == 4:\n",
    "        obese_regions.append(regions[i])\n",
    "print(origins(obese_regions))"
   ]
  },
  {
   "attachments": {},
   "cell_type": "markdown",
   "metadata": {},
   "source": [
    "A majority of the people suffering from obesity lives in the southeast. This is quite interesting, as this is also the place where the most smokers live. We could check if there is a correlation there!"
   ]
  }
 ],
 "metadata": {
  "kernelspec": {
   "display_name": "Python 3 (ipykernel)",
   "language": "python",
   "name": "python3"
  },
  "language_info": {
   "codemirror_mode": {
    "name": "ipython",
    "version": 3
   },
   "file_extension": ".py",
   "mimetype": "text/x-python",
   "name": "python",
   "nbconvert_exporter": "python",
   "pygments_lexer": "ipython3",
   "version": "3.11.3"
  }
 },
 "nbformat": 4,
 "nbformat_minor": 4
}
